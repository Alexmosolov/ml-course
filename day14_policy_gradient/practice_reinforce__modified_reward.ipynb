{
  "nbformat": 4,
  "nbformat_minor": 0,
  "metadata": {
    "colab": {
      "name": "reinforce_pytorch.ipynb",
      "provenance": []
    },
    "language_info": {
      "name": "python"
    },
    "kernelspec": {
      "name": "python3",
      "display_name": "Python 3"
    },
    "accelerator": "GPU"
  },
  "cells": [
    {
      "cell_type": "markdown",
      "metadata": {
        "id": "UVkCC1iri2SN"
      },
      "source": [
        "# REINFORCE in PyTorch\n",
        "\n",
        "Just like we did before for Q-learning, this time we'll design a PyTorch network to learn `CartPole-v0` via policy gradient (REINFORCE).\n",
        "\n",
        "Most of the code in this notebook is taken from approximate Q-learning, so you'll find it more or less familiar and even simpler."
      ]
    },
    {
      "cell_type": "markdown",
      "metadata": {
        "id": "yjkAlO8Qi_Xm"
      },
      "source": [
        "Acknowledgements for this great notebook to the [Practical_RL](https://github.com/yandexdataschool/Practical_RL) course team."
      ]
    },
    {
      "cell_type": "code",
      "metadata": {
        "id": "1b0moDpxi2SW",
        "outputId": "64c93562-3f06-4272-b04f-280f85f14d17",
        "colab": {
          "base_uri": "https://localhost:8080/"
        }
      },
      "source": [
        "import sys, os\n",
        "if 'google.colab' in sys.modules and not os.path.exists('.setup_complete'):\n",
        "    !wget -q https://raw.githubusercontent.com/yandexdataschool/Practical_RL/master/setup_colab.sh -O- | bash\n",
        "    !touch .setup_complete\n",
        "\n",
        "# This code creates a virtual display to draw game images on.\n",
        "# It will have no effect if your machine has a monitor.\n",
        "if type(os.environ.get(\"DISPLAY\")) is not str or len(os.environ.get(\"DISPLAY\")) == 0:\n",
        "    !bash ../xvfb start\n",
        "    os.environ['DISPLAY'] = ':1'"
      ],
      "execution_count": 1,
      "outputs": [
        {
          "output_type": "stream",
          "name": "stdout",
          "text": [
            "Selecting previously unselected package xvfb.\n",
            "(Reading database ... 155455 files and directories currently installed.)\n",
            "Preparing to unpack .../xvfb_2%3a1.19.6-1ubuntu4.10_amd64.deb ...\n",
            "Unpacking xvfb (2:1.19.6-1ubuntu4.10) ...\n",
            "Setting up xvfb (2:1.19.6-1ubuntu4.10) ...\n",
            "Processing triggers for man-db (2.8.3-2ubuntu0.1) ...\n",
            "Starting virtual X frame buffer: Xvfb.\n"
          ]
        }
      ]
    },
    {
      "cell_type": "code",
      "metadata": {
        "id": "7UYczVTli2Sb"
      },
      "source": [
        "import gym\n",
        "import numpy as np\n",
        "import matplotlib.pyplot as plt\n",
        "%matplotlib inline"
      ],
      "execution_count": 2,
      "outputs": []
    },
    {
      "cell_type": "markdown",
      "metadata": {
        "id": "98zhewLFi2Sd"
      },
      "source": [
        "A caveat: with some versions of `pyglet`, the following cell may crash with `NameError: name 'base' is not defined`. The corresponding bug report is [here](https://github.com/pyglet/pyglet/issues/134). If you see this error, try restarting the kernel."
      ]
    },
    {
      "cell_type": "code",
      "metadata": {
        "id": "XPKYrIlai2Sf",
        "outputId": "fa51a165-adee-4e98-8aca-df7e1db08a69",
        "colab": {
          "base_uri": "https://localhost:8080/",
          "height": 307
        }
      },
      "source": [
        "env = gym.make(\"CartPole-v0\")\n",
        "\n",
        "# gym compatibility: unwrap TimeLimit\n",
        "if hasattr(env, '_max_episode_steps'):\n",
        "    env = env.env\n",
        "\n",
        "env.reset()\n",
        "n_actions = env.action_space.n\n",
        "state_dim = env.observation_space.shape\n",
        "\n",
        "plt.imshow(env.render(\"rgb_array\"))"
      ],
      "execution_count": 3,
      "outputs": [
        {
          "output_type": "execute_result",
          "data": {
            "text/plain": [
              "<matplotlib.image.AxesImage at 0x7f8a97c80f90>"
            ]
          },
          "metadata": {},
          "execution_count": 3
        },
        {
          "output_type": "display_data",
          "data": {
            "text/plain": [
              "<Figure size 432x288 with 1 Axes>"
            ],
            "image/png": "[encoded data removed]"
          },
          "metadata": {
            "needs_background": "light"
          }
        }
      ]
    },
    {
      "cell_type": "markdown",
      "metadata": {
        "id": "75eHkuwTi2Si"
      },
      "source": [
        "# Building the network for REINFORCE"
      ]
    },
    {
      "cell_type": "code",
      "source": [
        ""
      ],
      "metadata": {
        "id": "We9nmLPc6jSl"
      },
      "execution_count": null,
      "outputs": []
    },
    {
      "cell_type": "markdown",
      "metadata": {
        "id": "x_TFCmsWi2Sj"
      },
      "source": [
        "For REINFORCE algorithm, we'll need a model that predicts action probabilities given states.\n",
        "\n",
        "For numerical stability, please __do not include the softmax layer into your network architecture__.\n",
        "We'll use softmax or log-softmax where appropriate."
      ]
    },
    {
      "cell_type": "code",
      "metadata": {
        "id": "sY2THBWfi2Sl"
      },
      "source": [
        "import torch\n",
        "import torch.nn as nn"
      ],
      "execution_count": 4,
      "outputs": []
    },
    {
      "cell_type": "code",
      "source": [
        "state_dim[0]"
      ],
      "metadata": {
        "id": "rR9yyZNO6Cc1",
        "outputId": "09a2748b-fbbf-4dee-b56e-e5920b4a222f",
        "colab": {
          "base_uri": "https://localhost:8080/"
        }
      },
      "execution_count": 7,
      "outputs": [
        {
          "output_type": "execute_result",
          "data": {
            "text/plain": [
              "4"
            ]
          },
          "metadata": {},
          "execution_count": 7
        }
      ]
    },
    {
      "cell_type": "code",
      "source": [
        "n_actions"
      ],
      "metadata": {
        "id": "TFqrz0Az6EBQ",
        "outputId": "faba3308-7555-420e-f85b-b6e174d42010",
        "colab": {
          "base_uri": "https://localhost:8080/"
        }
      },
      "execution_count": 6,
      "outputs": [
        {
          "output_type": "execute_result",
          "data": {
            "text/plain": [
              "2"
            ]
          },
          "metadata": {},
          "execution_count": 6
        }
      ]
    },
    {
      "cell_type": "code",
      "metadata": {
        "id": "8_pYr7PZi2Sn"
      },
      "source": [
        "# Build a simple neural network that predicts policy logits. \n",
        "# Keep it simple: CartPole isn't worth deep architectures.\n",
        "model = nn.Sequential(*[\n",
        "  # <YOUR CODE: define a neural network that predicts policy logits>\n",
        "  nn.Linear(state_dim[0], 32),\n",
        "  nn.ReLU(),\n",
        "  nn.Linear(32, 8),\n",
        "  nn.ReLU(),\n",
        "  nn.Linear(8, n_actions)\n",
        "])"
      ],
      "execution_count": 120,
      "outputs": []
    },
    {
      "cell_type": "code",
      "source": [
        "env.reset()"
      ],
      "metadata": {
        "id": "wOcI37TE6pQZ",
        "outputId": "5231f1be-ffde-482a-c7b6-f636d096a456",
        "colab": {
          "base_uri": "https://localhost:8080/"
        }
      },
      "execution_count": 121,
      "outputs": [
        {
          "output_type": "execute_result",
          "data": {
            "text/plain": [
              "array([-0.00855681,  0.02958346, -0.00305892, -0.04528646])"
            ]
          },
          "metadata": {},
          "execution_count": 121
        }
      ]
    },
    {
      "cell_type": "code",
      "source": [
        "model(torch.FloatTensor(env.reset()[None, :]))"
      ],
      "metadata": {
        "id": "O4Ph2YRI6kg4",
        "outputId": "8e652305-ddc9-476c-dfe1-1368c08d5522",
        "colab": {
          "base_uri": "https://localhost:8080/"
        }
      },
      "execution_count": 122,
      "outputs": [
        {
          "output_type": "execute_result",
          "data": {
            "text/plain": [
              "tensor([[-0.3444, -0.2733]], grad_fn=<AddmmBackward0>)"
            ]
          },
          "metadata": {},
          "execution_count": 122
        }
      ]
    },
    {
      "cell_type": "markdown",
      "metadata": {
        "id": "8Y80qbQFi2Sq"
      },
      "source": [
        "#### Predict function"
      ]
    },
    {
      "cell_type": "markdown",
      "metadata": {
        "id": "12PjRu0mi2Sr"
      },
      "source": [
        "Note: output value of this function is not a torch tensor, it's a numpy array.\n",
        "So, here gradient calculation is not needed.\n",
        "<br>\n",
        "Use [no_grad](https://pytorch.org/docs/stable/autograd.html#torch.autograd.no_grad)\n",
        "to suppress gradient calculation.\n",
        "<br>\n",
        "Also, `.detach()` (or legacy `.data` property) can be used instead, but there is a difference:\n",
        "<br>\n",
        "With `.detach()` computational graph is built but then disconnected from a particular tensor,\n",
        "so `.detach()` should be used if that graph is needed for backprop via some other (not detached) tensor;\n",
        "<br>\n",
        "In contrast, no graph is built by any operation in `no_grad()` context, thus it's preferable here."
      ]
    },
    {
      "cell_type": "code",
      "source": [
        "device = torch.device('cuda') if torch.cuda.is_available() else torch.device('cpu')"
      ],
      "metadata": {
        "id": "51os3KbS7klt"
      },
      "execution_count": 123,
      "outputs": []
    },
    {
      "cell_type": "code",
      "source": [
        "device"
      ],
      "metadata": {
        "id": "MtnZKuB48EWv",
        "outputId": "bf42700e-1343-4527-b29c-561726356569",
        "colab": {
          "base_uri": "https://localhost:8080/"
        }
      },
      "execution_count": 124,
      "outputs": [
        {
          "output_type": "execute_result",
          "data": {
            "text/plain": [
              "device(type='cpu')"
            ]
          },
          "metadata": {},
          "execution_count": 124
        }
      ]
    },
    {
      "cell_type": "code",
      "metadata": {
        "id": "d5B5JuXCi2St"
      },
      "source": [
        "def predict_probs(states, device=device):\n",
        "    \"\"\" \n",
        "    Predict action probabilities given states.\n",
        "    :param states: numpy array of shape [batch, state_shape]\n",
        "    :returns: numpy array of shape [batch, n_actions]\n",
        "    \"\"\"\n",
        "    # convert states, compute logits, use softmax to get probability\n",
        "    states_torch = torch.FloatTensor(states).to(device)\n",
        "    with torch.no_grad():\n",
        "      logits = model(states_torch)\n",
        "      probs = torch.softmax(logits, dim=-1).cpu().numpy()\n",
        "    return probs"
      ],
      "execution_count": 125,
      "outputs": []
    },
    {
      "cell_type": "code",
      "metadata": {
        "id": "Obkl_jCii2Sv"
      },
      "source": [
        "test_states = np.array([env.reset() for _ in range(5)])\n",
        "test_probas = predict_probs(test_states)\n",
        "assert isinstance(test_probas, np.ndarray), \\\n",
        "    \"you must return np array and not %s\" % type(test_probas)\n",
        "assert tuple(test_probas.shape) == (test_states.shape[0], env.action_space.n), \\\n",
        "    \"wrong output shape: %s\" % np.shape(test_probas)\n",
        "assert np.allclose(np.sum(test_probas, axis=1), 1), \"probabilities do not sum to 1\""
      ],
      "execution_count": 126,
      "outputs": []
    },
    {
      "cell_type": "code",
      "source": [
        "test_probas"
      ],
      "metadata": {
        "id": "1CegO5FD9gZp",
        "outputId": "04ca6abd-b6b5-4db9-d36b-f58b08b46e94",
        "colab": {
          "base_uri": "https://localhost:8080/"
        }
      },
      "execution_count": 127,
      "outputs": [
        {
          "output_type": "execute_result",
          "data": {
            "text/plain": [
              "array([[0.48228315, 0.5177169 ],\n",
              "       [0.48221803, 0.517782  ],\n",
              "       [0.48277262, 0.51722735],\n",
              "       [0.48224413, 0.5177558 ],\n",
              "       [0.48271498, 0.517285  ]], dtype=float32)"
            ]
          },
          "metadata": {},
          "execution_count": 127
        }
      ]
    },
    {
      "cell_type": "markdown",
      "metadata": {
        "id": "Be6AYf8gi2Sw"
      },
      "source": [
        "### Play the game\n",
        "\n",
        "We can now use our newly built agent to play the game."
      ]
    },
    {
      "cell_type": "code",
      "metadata": {
        "id": "8LOUUvnki2Sx"
      },
      "source": [
        "def generate_session(env, t_max=1000):\n",
        "    \"\"\" \n",
        "    Play a full session with REINFORCE agent.\n",
        "    Returns sequences of states, actions, and rewards.\n",
        "    \"\"\"\n",
        "    # arrays to record session\n",
        "    states, actions, rewards = [], [], []\n",
        "    s = env.reset()\n",
        "\n",
        "    for t in range(t_max):\n",
        "        # action probabilities array aka pi(a|s)\n",
        "        action_probs = predict_probs(np.array([s]))[0]\n",
        "\n",
        "        # Sample action with given probabilities.\n",
        "        a = np.random.choice(np.arange(n_actions), p=action_probs) #<YOUR CODE>\n",
        "        new_s, r, done, info = env.step(a)\n",
        "\n",
        "        # record session history to train later\n",
        "        states.append(s)\n",
        "        actions.append(a)\n",
        "        r_new = r - 0.25 * abs(-2. - s[0])\n",
        "        rewards.append(r_new)\n",
        "\n",
        "\n",
        "\n",
        "        s = new_s\n",
        "        if done:\n",
        "            break\n",
        "\n",
        "    return states, actions, rewards"
      ],
      "execution_count": 128,
      "outputs": []
    },
    {
      "cell_type": "code",
      "metadata": {
        "id": "5sdENWJAi2Sz"
      },
      "source": [
        "# test it\n",
        "states, actions, rewards = generate_session(env)"
      ],
      "execution_count": 129,
      "outputs": []
    },
    {
      "cell_type": "code",
      "source": [
        "len(states)"
      ],
      "metadata": {
        "id": "4smAikM19lDU",
        "outputId": "27f7ac72-14c1-4291-ed83-be03b74fe6d6",
        "colab": {
          "base_uri": "https://localhost:8080/"
        }
      },
      "execution_count": 130,
      "outputs": [
        {
          "output_type": "execute_result",
          "data": {
            "text/plain": [
              "46"
            ]
          },
          "metadata": {},
          "execution_count": 130
        }
      ]
    },
    {
      "cell_type": "markdown",
      "metadata": {
        "id": "eG5hLg-3i2S0"
      },
      "source": [
        "### Computing cumulative rewards\n",
        "\n",
        "$$\n",
        "\\begin{align*}\n",
        "G_t &= r_t + \\gamma r_{t + 1} + \\gamma^2 r_{t + 2} + \\ldots \\\\\n",
        "&= \\sum_{i = t}^T \\gamma^{i - t} r_i \\\\\n",
        "&= r_t + \\gamma * G_{t + 1}\n",
        "\\end{align*}\n",
        "$$"
      ]
    },
    {
      "cell_type": "code",
      "metadata": {
        "id": "AoWX9gvai2S0"
      },
      "source": [
        "def get_cumulative_rewards(rewards,  # rewards at each step\n",
        "                           gamma=0.99  # discount for reward\n",
        "                           ):\n",
        "    \"\"\"\n",
        "    Take a list of immediate rewards r(s,a) for the whole session \n",
        "    and compute cumulative returns (a.k.a. G(s,a) in Sutton '16).\n",
        "    \n",
        "    G_t = r_t + gamma*r_{t+1} + gamma^2*r_{t+2} + ...\n",
        "\n",
        "    A simple way to compute cumulative rewards is to iterate from the last\n",
        "    to the first timestep and compute G_t = r_t + gamma*G_{t+1} recurrently\n",
        "\n",
        "    You must return an array/list of cumulative rewards with as many elements as in the initial rewards.\n",
        "    \"\"\"\n",
        "    # <YOUR CODE>\n",
        "    cumulative_returns_inv = np.zeros_like(rewards, dtype=float)\n",
        "    total = 0\n",
        "    for i, reward in enumerate(rewards[::-1]):\n",
        "      total = reward + gamma * total\n",
        "      cumulative_returns_inv[i] = total\n",
        "    return cumulative_returns_inv[::-1] # <YOUR CODE: array of cumulative rewards>"
      ],
      "execution_count": 131,
      "outputs": []
    },
    {
      "cell_type": "code",
      "source": [
        "# get_cumulative_rewards([0, 0, 1, 0, 0, 1, 0], gamma=0.9)"
      ],
      "metadata": {
        "id": "LbJBNNnj_QLr"
      },
      "execution_count": 132,
      "outputs": []
    },
    {
      "cell_type": "code",
      "metadata": {
        "id": "2DX39wcUi2S3",
        "outputId": "80245944-5b67-433c-b7b8-e67efe7d3512",
        "colab": {
          "base_uri": "https://localhost:8080/"
        }
      },
      "source": [
        "get_cumulative_rewards(rewards)\n",
        "assert len(get_cumulative_rewards(list(range(100)))) == 100\n",
        "assert np.allclose(\n",
        "    get_cumulative_rewards([0, 0, 1, 0, 0, 1, 0], gamma=0.9),\n",
        "    [1.40049, 1.5561, 1.729, 0.81, 0.9, 1.0, 0.0])\n",
        "assert np.allclose(\n",
        "    get_cumulative_rewards([0, 0, 1, -2, 3, -4, 0], gamma=0.5),\n",
        "    [0.0625, 0.125, 0.25, -1.5, 1.0, -4.0, 0.0])\n",
        "assert np.allclose(\n",
        "    get_cumulative_rewards([0, 0, 1, 2, 3, 4, 0], gamma=0),\n",
        "    [0, 0, 1, 2, 3, 4, 0])\n",
        "print(\"looks good!\")"
      ],
      "execution_count": 133,
      "outputs": [
        {
          "output_type": "stream",
          "name": "stdout",
          "text": [
            "looks good!\n"
          ]
        }
      ]
    },
    {
      "cell_type": "markdown",
      "metadata": {
        "id": "evLt5DJji2S_"
      },
      "source": [
        "#### Loss function and updates\n",
        "\n",
        "We now need to define objective and update over policy gradient.\n",
        "\n",
        "Our objective function is\n",
        "\n",
        "$$ J \\approx  { 1 \\over N } \\sum_{s_i,a_i} G(s_i,a_i) $$\n",
        "\n",
        "REINFORCE defines a way to compute the gradient of the expected reward with respect to policy parameters. The formula is as follows:\n",
        "\n",
        "$$ \\nabla_\\theta \\hat J(\\theta) \\approx { 1 \\over N } \\sum_{s_i, a_i} \\nabla_\\theta \\log \\pi_\\theta (a_i \\mid s_i) \\cdot G_t(s_i, a_i) $$\n",
        "\n",
        "We can abuse PyTorch's capabilities for automatic differentiation by defining our objective function as follows:\n",
        "\n",
        "$$ \\hat J(\\theta) \\approx { 1 \\over N } \\sum_{s_i, a_i} \\log \\pi_\\theta (a_i \\mid s_i) \\cdot G_t(s_i, a_i) $$\n",
        "\n",
        "When you compute the gradient of that function with respect to network weights $\\theta$, it will become exactly the policy gradient.\n",
        "\n",
        "\n",
        "Entropy:\n",
        "$H = -\\sum_k p_k \\cdot \\log p_k$"
      ]
    },
    {
      "cell_type": "code",
      "source": [
        "a = np.log(np.array([0.25, 0.75]))"
      ],
      "metadata": {
        "id": "X4b5wKN4DBfP"
      },
      "execution_count": 134,
      "outputs": []
    },
    {
      "cell_type": "code",
      "source": [
        "b = np.array([0, 1])"
      ],
      "metadata": {
        "id": "WksLKyGMDIUa"
      },
      "execution_count": 135,
      "outputs": []
    },
    {
      "cell_type": "code",
      "source": [
        "a"
      ],
      "metadata": {
        "id": "UEW9zYErDNyh",
        "outputId": "bb554644-65b4-4f22-b95a-d067c66588f9",
        "colab": {
          "base_uri": "https://localhost:8080/"
        }
      },
      "execution_count": 136,
      "outputs": [
        {
          "output_type": "execute_result",
          "data": {
            "text/plain": [
              "array([-1.38629436, -0.28768207])"
            ]
          },
          "metadata": {},
          "execution_count": 136
        }
      ]
    },
    {
      "cell_type": "code",
      "source": [
        "a * b"
      ],
      "metadata": {
        "id": "mvC-VJqRDLmb",
        "outputId": "83d4b3fd-d369-4524-f7ae-db9abb2ff68a",
        "colab": {
          "base_uri": "https://localhost:8080/"
        }
      },
      "execution_count": 137,
      "outputs": [
        {
          "output_type": "execute_result",
          "data": {
            "text/plain": [
              "array([-0.        , -0.28768207])"
            ]
          },
          "metadata": {},
          "execution_count": 137
        }
      ]
    },
    {
      "cell_type": "code",
      "metadata": {
        "id": "_hLjxTVLi2TB"
      },
      "source": [
        "def to_one_hot(y_tensor, ndims):\n",
        "    \"\"\" helper: take an integer vector and convert it to 1-hot matrix. \"\"\"\n",
        "    y_tensor = y_tensor.type(torch.LongTensor).view(-1, 1)\n",
        "    y_one_hot = torch.zeros(\n",
        "        y_tensor.size()[0], ndims).scatter_(1, y_tensor, 1)\n",
        "    return y_one_hot"
      ],
      "execution_count": 138,
      "outputs": []
    },
    {
      "cell_type": "code",
      "metadata": {
        "id": "1C8ZSizji2TD"
      },
      "source": [
        "# Your code: define optimizers\n",
        "optimizer = torch.optim.Adam(model.parameters(), 1e-3)\n",
        "\n",
        "\n",
        "def train_on_session(states, actions, rewards, gamma=0.99, entropy_coef=1e-2):\n",
        "    \"\"\"\n",
        "    Takes a sequence of states, actions and rewards produced by generate_session.\n",
        "    Updates agent's weights by following the policy gradient above.\n",
        "    Please use Adam optimizer with default parameters.\n",
        "    \"\"\"\n",
        "\n",
        "    # cast everything into torch tensors\n",
        "    states = torch.tensor(states, dtype=torch.float32)\n",
        "    actions = torch.tensor(actions, dtype=torch.int32)\n",
        "    cumulative_returns = np.array(get_cumulative_rewards(rewards, gamma))\n",
        "    cumulative_returns = torch.tensor(cumulative_returns, dtype=torch.float32)\n",
        "\n",
        "    # predict logits, probas and log-probas using an agent.\n",
        "    logits = model(states)\n",
        "    probs = nn.functional.softmax(logits, -1)\n",
        "    log_probs = nn.functional.log_softmax(logits, -1)\n",
        "\n",
        "    assert all(isinstance(v, torch.Tensor) for v in [logits, probs, log_probs]), \\\n",
        "        \"please use compute using torch tensors and don't use predict_probs function\"\n",
        "\n",
        "    # select log-probabilities for chosen actions, log pi(a_i|s_i)\n",
        "    log_probs_for_actions = torch.sum(\n",
        "        log_probs * to_one_hot(actions, env.action_space.n), dim=1)\n",
        "\n",
        "    J_hat = torch.mean(log_probs_for_actions * cumulative_returns)\n",
        "    # Compute loss here. Don't forgen entropy regularization with `entropy_coef` \n",
        "    entropy = -torch.mean(torch.sum(probs * log_probs, dim=1)) # <YOUR CODE>\n",
        "    loss = -J_hat - entropy_coef*entropy\n",
        "\n",
        "    # Gradient descent step\n",
        "    # <YOUR CODE>\n",
        "    loss.backward()\n",
        "    optimizer.step()\n",
        "    optimizer.zero_grad()\n",
        "\n",
        "    # technical: return session rewards to print them later\n",
        "    return np.sum(rewards)"
      ],
      "execution_count": 140,
      "outputs": []
    },
    {
      "cell_type": "markdown",
      "metadata": {
        "id": "E-WWsbl5i2TE"
      },
      "source": [
        "### The actual training"
      ]
    },
    {
      "cell_type": "code",
      "source": [
        "a = generate_session(env)"
      ],
      "metadata": {
        "id": "OAf7anBOG0Pl"
      },
      "execution_count": 141,
      "outputs": []
    },
    {
      "cell_type": "code",
      "source": [
        "a[2][:10]"
      ],
      "metadata": {
        "id": "WfI7MpRcG1hd",
        "outputId": "47e2a1c0-ccc4-4cd1-ec37-393a1d59a723",
        "colab": {
          "base_uri": "https://localhost:8080/"
        }
      },
      "execution_count": 142,
      "outputs": [
        {
          "output_type": "execute_result",
          "data": {
            "text/plain": [
              "[0.5110412252248646,\n",
              " 0.5111623860786269,\n",
              " 0.5103046036288513,\n",
              " 0.5084678897881343,\n",
              " 0.5076027016721185,\n",
              " 0.5077079757735151,\n",
              " 0.5087831059592138,\n",
              " 0.5088775890587909,\n",
              " 0.5079916443965531,\n",
              " 0.5080755945502564]"
            ]
          },
          "metadata": {},
          "execution_count": 142
        }
      ]
    },
    {
      "cell_type": "code",
      "metadata": {
        "id": "ckHj5sXBi2TE",
        "outputId": "02bb72d8-bde6-4fbd-bbd4-608d0fd7de99",
        "colab": {
          "base_uri": "https://localhost:8080/"
        }
      },
      "source": [
        "for i in range(100):\n",
        "    rewards = [train_on_session(*generate_session(env)) for _ in range(100)]  # generate new sessions\n",
        "    \n",
        "    print(\"mean reward:%.3f\" % (np.mean(rewards)))\n",
        "    \n",
        "    if np.mean(rewards) > 500:\n",
        "        print(\"You Win!\")  # but you can train even further\n",
        "        break"
      ],
      "execution_count": 143,
      "outputs": [
        {
          "output_type": "stream",
          "name": "stdout",
          "text": [
            "mean reward:11.944\n",
            "mean reward:11.673\n",
            "mean reward:13.263\n",
            "mean reward:12.764\n",
            "mean reward:16.675\n",
            "mean reward:20.192\n",
            "mean reward:36.972\n",
            "mean reward:74.155\n",
            "mean reward:109.037\n",
            "mean reward:98.983\n",
            "mean reward:69.410\n",
            "mean reward:97.833\n",
            "mean reward:218.468\n",
            "mean reward:230.051\n",
            "mean reward:219.009\n",
            "mean reward:178.330\n",
            "mean reward:352.522\n",
            "mean reward:402.536\n",
            "mean reward:306.976\n",
            "mean reward:61.601\n",
            "mean reward:71.139\n",
            "mean reward:101.875\n",
            "mean reward:88.391\n",
            "mean reward:77.697\n",
            "mean reward:81.954\n",
            "mean reward:86.917\n",
            "mean reward:84.878\n",
            "mean reward:85.142\n",
            "mean reward:467.340\n",
            "mean reward:93.198\n",
            "mean reward:59.027\n",
            "mean reward:80.981\n",
            "mean reward:106.096\n",
            "mean reward:540.779\n",
            "You Win!\n"
          ]
        }
      ]
    },
    {
      "cell_type": "code",
      "source": [
        "a = [generate_session(env) for _ in range(100)]"
      ],
      "metadata": {
        "id": "R_bkcfm3I1M1"
      },
      "execution_count": 144,
      "outputs": []
    },
    {
      "cell_type": "code",
      "source": [
        "plt.hist([sum(x[2]) for x in a])"
      ],
      "metadata": {
        "id": "uzNN8mp-I5J7",
        "outputId": "61ebfdc9-fa96-4d4b-ccc0-97e69a061f4a",
        "colab": {
          "base_uri": "https://localhost:8080/",
          "height": 372
        }
      },
      "execution_count": 145,
      "outputs": [
        {
          "output_type": "execute_result",
          "data": {
            "text/plain": [
              "(array([ 1.,  2.,  2.,  0.,  4.,  1.,  2.,  0., 23., 65.]),\n",
              " array([246.62099796, 307.28808548, 367.95517299, 428.62226051,\n",
              "        489.28934803, 549.95643555, 610.62352307, 671.29061059,\n",
              "        731.95769811, 792.62478563, 853.29187315]),\n",
              " <a list of 10 Patch objects>)"
            ]
          },
          "metadata": {},
          "execution_count": 145
        },
        {
          "output_type": "display_data",
          "data": {
            "text/plain": [
              "<Figure size 432x288 with 1 Axes>"
            ],
            "image/png": "[encoded data removed]"
          },
          "metadata": {
            "needs_background": "light"
          }
        }
      ]
    },
    {
      "cell_type": "markdown",
      "metadata": {
        "id": "Bg__sQeti2TF"
      },
      "source": [
        "### Results & video"
      ]
    },
    {
      "cell_type": "code",
      "source": [
        "!rm -r videos"
      ],
      "metadata": {
        "id": "282G-dbRIX54"
      },
      "execution_count": 146,
      "outputs": []
    },
    {
      "cell_type": "code",
      "metadata": {
        "id": "cAoTsq4Pi2TF"
      },
      "source": [
        "# Record sessions\n",
        "\n",
        "import gym.wrappers\n",
        "\n",
        "with gym.wrappers.Monitor(gym.make(\"CartPole-v0\"), directory=\"videos\", force=True) as env_monitor:\n",
        "    sessions = [generate_session(env_monitor) for _ in range(100)]"
      ],
      "execution_count": 147,
      "outputs": []
    },
    {
      "cell_type": "code",
      "metadata": {
        "id": "IgcqBKtBi2TG",
        "outputId": "39c512bc-690e-4eec-ad29-b002905164d6",
        "colab": {
          "base_uri": "https://localhost:8080/",
          "height": 522
        }
      },
      "source": [
        "# Show video. This may not work in some setups. If it doesn't\n",
        "# work for you, you can download the videos and view them locally.\n",
        "\n",
        "from pathlib import Path\n",
        "from base64 import b64encode\n",
        "from IPython.display import HTML\n",
        "\n",
        "video_paths = sorted([s for s in Path('videos').iterdir() if s.suffix == '.mp4'])\n",
        "video_path = video_paths[-1]  # You can also try other indices\n",
        "\n",
        "if 'google.colab' in sys.modules:\n",
        "    # https://stackoverflow.com/a/57378660/1214547\n",
        "    with video_path.open('rb') as fp:\n",
        "        mp4 = fp.read()\n",
        "    data_url = 'data:video/mp4;base64,' + b64encode(mp4).decode()\n",
        "else:\n",
        "    data_url = str(video_path)\n",
        "\n",
        "HTML(\"\"\"\n",
        "<video width=\"640\" height=\"480\" controls>\n",
        "  <source src=\"{}\" type=\"video/mp4\">\n",
        "</video>\n",
        "\"\"\".format(data_url))"
      ],
      "execution_count": 150,
      "outputs": [
        {
          "output_type": "execute_result",
          "data": {
            "text/plain": [
              "<IPython.core.display.HTML object>"
            ],
            "text/html": [
              "\n",
              "<video width=\"640\" height=\"480\" controls>\n",
              "  <source src=\"data:video/mp4;base64,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\" type=\"video/mp4\">\n",
              "</video>\n"
            ]
          },
          "metadata": {},
          "execution_count": 150
        }
      ]
    },
    {
      "cell_type": "code",
      "source": [
        ""
      ],
      "metadata": {
        "id": "iwXkEX3aFK7M"
      },
      "execution_count": 111,
      "outputs": []
    }
  ]
}